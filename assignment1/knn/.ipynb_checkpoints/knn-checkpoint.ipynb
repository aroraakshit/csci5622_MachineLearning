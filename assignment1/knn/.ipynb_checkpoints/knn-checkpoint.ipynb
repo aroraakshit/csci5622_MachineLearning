{
 "cells": [
  {
   "cell_type": "markdown",
   "metadata": {},
   "source": [
    "# K-Nearest Neighbors Homework Solutions\n",
    "***\n",
    "**Name**: Akshit Arora\n",
    "***\n",
    "\n",
    "This assignment is due on Moodle by **5pm on Friday January 26th**. Submit only this Jupyter notebook to Moodle.  Do not compress it using tar, rar, zip, etc. Your solutions to analysis questions should be done in Markdown directly below the associated question.  Remember that you are encouraged to discuss the problems with your instructors and classmates, but **you must write all code and solutions on your own**.  For a refresher on the course **Collaboration Policy** click [here](https://github.com/chrisketelsen/CSCI5622-Machine-Learning/blob/master/resources/syllabus.md#collaboration-policy)\n",
    "\n"
   ]
  },
  {
   "cell_type": "markdown",
   "metadata": {},
   "source": [
    "## Overview \n",
    "***\n",
    "\n",
    "\n",
    "In this homework you'll implement a K-Nearest Neighbor framework to take an image of a handwritten digit and predict which digit it corresponds to.  \n",
    "\n",
    "<br>\n",
    "\n",
    "![Samples of Handwritten Digits](wide_mnist.png \"MNIST Digits\")\n",
    "\n",
    "\n",
    "<br>\n",
    "\n",
    "This homework is designed to be pretty easy. If you're spending a ton of time on this assignment, then you are either:\n",
    "\n",
    "- not prepared to take this course (i.e., if you're struggling with Python)\n",
    "- seriously over-thinking the assignment\n",
    "- trying to implement too much of KNN from scratch\n",
    "\n",
    "\n",
    "Most of this assignment will be done by calling libraries that are already implemented for you. If you are implementing $n$-dimensional search or your own distance metrics, you are generating extra work for yourself and making yourself vulnerable to errors. \n",
    "\n",
    "Here are the rules: \n",
    "\n",
    "- Do **NOT** load or use any Python packages that are not available in Anaconda 3.6. \n",
    "- Some problems with code may be autograded.  If we provide a function or class API **do not** change it.\n",
    "- Do not change the location of the data or data directory.  Use only relative paths to access the data. "
   ]
  },
  {
   "cell_type": "code",
   "execution_count": 41,
   "metadata": {},
   "outputs": [],
   "source": [
    "import numpy as np\n",
    "import matplotlib.pylab as plt\n",
    "%matplotlib inline\n",
    "from collections import Counter"
   ]
  },
  {
   "cell_type": "markdown",
   "metadata": {},
   "source": [
    "### [5 points] Problem 1\n",
    "***\n",
    "\n",
    "The class below will load and store the MNIST data.  Load the data and then report: \n",
    "- The number of examples in the training set \n",
    "- The number of examples in the test set \n",
    "- The number of pixels in each image. "
   ]
  },
  {
   "cell_type": "code",
   "execution_count": 42,
   "metadata": {},
   "outputs": [],
   "source": [
    "class Numbers:\n",
    "    \"\"\"\n",
    "    Class to store MNIST data\n",
    "    \"\"\"\n",
    "    def __init__(self, location):\n",
    "\n",
    "        import pickle, gzip\n",
    "\n",
    "        # load data from file \n",
    "        f = gzip.open(location, 'rb')\n",
    "        train_set, valid_set, test_set = pickle.load(f)\n",
    "        f.close()\n",
    "\n",
    "        # store for use later  \n",
    "        self.train_x, self.train_y = train_set\n",
    "        self.test_x, self.test_y = valid_set"
   ]
  },
  {
   "cell_type": "code",
   "execution_count": 43,
   "metadata": {},
   "outputs": [
    {
     "name": "stdout",
     "output_type": "stream",
     "text": [
      "Number of examples in training set: 50000\n",
      "Number of examples in test set: 10000\n",
      "Number of pixels in each image: 784\n"
     ]
    }
   ],
   "source": [
    "data = Numbers(\"../data/mnist.pklz\")\n",
    "print(\"Number of examples in training set: \"+str(len(data.train_x)))\n",
    "print(\"Number of examples in test set: \"+str(len(data.test_x)))\n",
    "print(\"Number of pixels in each image: \"+str(len(data.test_x[0])))"
   ]
  },
  {
   "cell_type": "markdown",
   "metadata": {},
   "source": [
    "### [30 points] Problem 2\n",
    "***\n",
    "\n",
    "The class below will perform K-Nearest Neighbor classification on our handwritten digit data. Your tasks are as follows:   \n",
    "\n",
    "1. Modify the `label_counts` function to return a dictionary of frequencies corresponding to each label in the training set. \n",
    "1. Modify the `majority` function so that it returns the _label_ that appears most frequently in the $K$-nearest neighbors of the query point.  In the case that the maximum frequency occurs for two or more labels, return the one that appears most frequently in the entire training set. In the case that there is still a tie, break the tie in any way that you choose. \n",
    "1. Modify the `classify` function so that it finds the _indices_ of the $K$ closest training examples to the query point and then calls the `majority` function to return the predicted label. Almost all of the heavy lifting here will be done by the BallTree object from `sklearn.neighbors`, so you'll want to start out by reading the [documentation](http://scikit-learn.org/stable/modules/generated/sklearn.neighbors.BallTree.html).  \n",
    "1. Modify the `confusion_matrix` function to classify examples and record the results in a confusion matrix. You should construct the confusion matrix on your own.  Don't call any additional functions from sklearn to do it for you.\n",
    "\n",
    "The class Knearest also implements an `accuracy` function which you will use in **Problem 3**.  You should not have to modify this function. \n",
    "\n",
    "We've given you unit tests down below based on the simple example worked out in lecture.  At first your code will fail all of them.  Do not move on to **Problem 3** until your code passes all of the unit tests. In addition, passing the unit tests does not guarantee that your implementation is robust and that you'll earn full points on this problem.  You should be designing your own additional tests as well. "
   ]
  },
  {
   "cell_type": "code",
   "execution_count": 44,
   "metadata": {},
   "outputs": [],
   "source": [
    "class Knearest:\n",
    "    \"\"\"\n",
    "    kNN classifier\n",
    "    \"\"\"\n",
    "\n",
    "    def __init__(self, X, y, k=5):\n",
    "        \"\"\"\n",
    "        Creates a kNN instance\n",
    "\n",
    "        :param x: Training data input\n",
    "        :param y: Training data output\n",
    "        :param k: The number of nearest points to consider in classification\n",
    "        \"\"\"\n",
    "        \n",
    "        from sklearn.neighbors import BallTree\n",
    "\n",
    "        self._kdtree = BallTree(X)\n",
    "        self._y = y\n",
    "        self._k = k\n",
    "        self._counts = self.label_counts()\n",
    "        \n",
    "    def label_counts(self):\n",
    "        \"\"\"\n",
    "        Given the training labels, return a dictionary d where d[y] is  \n",
    "        the number of times that label y appears in the training set. \n",
    "        \"\"\"\n",
    "        cnt = Counter()\n",
    "        for label in self._y:\n",
    "            cnt[label] +=1\n",
    "        return dict(cnt)\n",
    "\n",
    "    def majority(self, neighbor_indices):\n",
    "        \"\"\"\n",
    "        Given the indices of training examples, return the majority label. Break ties \n",
    "        by choosing the tied label that appears most often in the training data. \n",
    "\n",
    "        :param neighbor_indices: The indices of the k nearest neighbors\n",
    "        \n",
    "        Modify the majority function so that it returns the label that appears most \n",
    "        frequently in the  KK -nearest neighbors of the query point. In the case that the maximum frequency \n",
    "        occurs for two or more labels, return the one that appears most frequently in the entire training set. \n",
    "        In the case that there is still a tie, break the tie in any way that you choose.\n",
    "        \"\"\"\n",
    "        assert len(neighbor_indices) == self._k, \"Did not get k neighbor indices\"\n",
    "        cnt2 = Counter()\n",
    "        for idx in neighbor_indices:\n",
    "            cnt2[self._y[idx]] += 1\n",
    "        maj_freq_value = max(dict(cnt2).values())\n",
    "        maj_freq_keys = [key for key,value in dict(cnt2).items() if value==maj_freq_value]\n",
    "        if len(maj_freq_keys) > 1: #we have a tie\n",
    "            train_freq = self.label_counts()\n",
    "            max_freq = 0\n",
    "            for key in maj_freq_keys:\n",
    "                if (train_freq[key] > max_freq):\n",
    "                    max_freq = train_freq[key]\n",
    "                    max_key = key\n",
    "            return max_key\n",
    "        else:\n",
    "            return maj_freq_keys[0]\n",
    "    \n",
    "\n",
    "    def classify(self, example):\n",
    "        \"\"\"\n",
    "        Given an example, return the predicted label. \n",
    "\n",
    "        :param example: A representation of an example in the same\n",
    "        format as a row of the training data\n",
    "        \n",
    "        Modify the classify function so that it finds the indices of the  KK  closest \n",
    "        training examples to the query point and then calls the majority function to return the predicted label. \n",
    "        Almost all of the heavy lifting here will be done by the BallTree object from sklearn.neighbors, \n",
    "        so you'll want to start out by reading the documentation.\n",
    "        \"\"\"\n",
    "        dist, n_neighbors = self._kdtree.query(np.array(example).reshape(1, -1), k=self._k) #1 because we know that its only 1 row, but we do not know number of columns/features.\n",
    "        return self.majority(n_neighbors[0])\n",
    "\n",
    "\n",
    "    def confusion_matrix(self, test_x, test_y):\n",
    "        \"\"\"\n",
    "        Given a matrix of test examples and labels, compute the confusion\n",
    "        matrix for the current classifier.  Should return a 2-dimensional\n",
    "        numpy array of ints, C, where C[ii,jj] is the number of times an \n",
    "        example with true label ii was labeled as jj.\n",
    "\n",
    "        :param test_x: test data \n",
    "        :param test_y: true test labels \n",
    "        \n",
    "        Modify the confusion_matrix function to classify examples and record the results in a confusion matrix. \n",
    "        You should construct the confusion matrix on your own. Don't call any additional functions from sklearn \n",
    "        to do it for you.\n",
    "\n",
    "        \"\"\"\n",
    "        \n",
    "        C = np.zeros((10,10), dtype=int)\n",
    "        progress = 0 #since the processing was slow\n",
    "        for xx, yy in zip(test_x, test_y):\n",
    "            test_xx = xx\n",
    "            pred_y = self.classify(test_xx)\n",
    "            C[int(yy),int(pred_y)] += 1\n",
    "            progress += 1\n",
    "            #if(progress % 100 == 0):\n",
    "            #    print(\"Progress = \" + str(progress))\n",
    "        return C \n",
    "            \n",
    "    @staticmethod\n",
    "    def accuracy(C):\n",
    "        \"\"\"\n",
    "        Given a confusion matrix C, compute the accuracy of the underlying classifier.\n",
    "        \n",
    "        :param C: a confusion matrix \n",
    "        \"\"\"\n",
    "        \n",
    "        return np.sum(C.diagonal()) / C.sum()\n",
    "        "
   ]
  },
  {
   "cell_type": "markdown",
   "metadata": {},
   "source": [
    "Here are the unit tests.  You don't need to modify them.  Simply execute the cell and observe the output. "
   ]
  },
  {
   "cell_type": "code",
   "execution_count": 45,
   "metadata": {
    "scrolled": true
   },
   "outputs": [
    {
     "name": "stderr",
     "output_type": "stream",
     "text": [
      "....\n",
      "----------------------------------------------------------------------\n",
      "Ran 4 tests in 0.006s\n",
      "\n",
      "OK\n"
     ]
    },
    {
     "data": {
      "text/plain": [
       "<unittest.runner.TextTestResult run=4 errors=0 failures=0>"
      ]
     },
     "execution_count": 45,
     "metadata": {},
     "output_type": "execute_result"
    }
   ],
   "source": [
    "import unittest\n",
    "\n",
    "class TestKnn(unittest.TestCase):\n",
    "    def setUp(self):\n",
    "        self.x = np.array([[2, 0], [4, 1], [6, 0], [1, 4], [2, 4], [2, 5], [4, 4], [0, 2], [3, 2], [4, 2], [5, 2], [5, 5]])\n",
    "        self.y = np.array([+1, +1, +1, +1, +1, +1, +1, -1, -1, -1, -1, -1])\n",
    "        self.knn = {}\n",
    "        for ii in [1, 2, 3]:\n",
    "            self.knn[ii] = Knearest(self.x, self.y, ii)\n",
    "\n",
    "        self.queries = np.array([[1, 5], [0, 3], [6, 4]])\n",
    "        \n",
    "    def test0(self):\n",
    "        \"\"\"\n",
    "        Test the label counter \n",
    "        \"\"\"\n",
    "        self.assertEqual(self.knn[1]._counts[-1], 5)\n",
    "        self.assertEqual(self.knn[1]._counts[1], 7)\n",
    "\n",
    "    def test1(self):\n",
    "        \"\"\"\n",
    "        Test 1NN\n",
    "        \"\"\"\n",
    "        self.assertEqual(self.knn[1].classify(self.queries[0]),  1)\n",
    "        self.assertEqual(self.knn[1].classify(self.queries[1]), -1)\n",
    "        self.assertEqual(self.knn[1].classify(self.queries[2]), -1)\n",
    "\n",
    "    def test2(self):\n",
    "        \"\"\"\n",
    "        Test 2NN\n",
    "        \"\"\"\n",
    "        self.assertEqual(self.knn[2].classify(self.queries[0]),  1)\n",
    "        self.assertEqual(self.knn[2].classify(self.queries[1]),  1)\n",
    "        self.assertEqual(self.knn[2].classify(self.queries[2]),  1)\n",
    "\n",
    "    def test3(self):\n",
    "        \"\"\"\n",
    "        Test 3NN\n",
    "        \"\"\"\n",
    "        self.assertEqual(self.knn[3].classify(self.queries[0]),  1)\n",
    "        self.assertEqual(self.knn[3].classify(self.queries[1]),  1)\n",
    "        self.assertEqual(self.knn[3].classify(self.queries[2]), -1)\n",
    "        \n",
    "tests = TestKnn()\n",
    "tests_to_run = unittest.TestLoader().loadTestsFromModule(tests)\n",
    "unittest.TextTestRunner().run(tests_to_run)"
   ]
  },
  {
   "cell_type": "markdown",
   "metadata": {},
   "source": [
    "### [15 points] Problem 3\n",
    "***\n",
    "\n",
    "In this problem you'll explore the performance of the classifier you've written.  A word of advice: don't use the entire training set, especially at first.  We'll be using this dataset again later on with techniques that scale better.    "
   ]
  },
  {
   "cell_type": "markdown",
   "metadata": {},
   "source": [
    "**Part A**: Explore the relationship between the number of training examples and accuracy on the test set. Comment on your findings and support your observations with some kind of graphic. "
   ]
  },
  {
   "cell_type": "code",
   "execution_count": 82,
   "metadata": {},
   "outputs": [
    {
     "data": {
      "image/png": "[encoded data removed]",
      "text/plain": [
       "<matplotlib.figure.Figure at 0x11782d208>"
      ]
     },
     "metadata": {},
     "output_type": "display_data"
    }
   ],
   "source": [
    "training_examples_x = []\n",
    "test_accuracy_y = []\n",
    "for i in range(1,10):\n",
    "    acc = []\n",
    "    training_examples_x.append(100*i)\n",
    "    for j in range(1,6):\n",
    "        knn = Knearest(data.train_x[:100*i], data.train_y[:100*i], j)\n",
    "        confusion = knn.confusion_matrix(data.test_x, data.test_y)\n",
    "        acc.append(knn.accuracy(confusion))\n",
    "    test_accuracy_y.append(acc)\n",
    "plt.plot(training_examples_x, test_accuracy_y)\n",
    "plt.xlabel('Number of training examples')\n",
    "plt.ylabel('Test set accuracy')\n",
    "plt.title('Relationship between the number of training examples and test set accuracy')\n",
    "plt.show()"
   ]
  },
  {
   "cell_type": "markdown",
   "metadata": {},
   "source": [
    "**Explanation**: As the number of training examples increase, the accuracy of the classifier on the test set increases logarithmically (regardless of the value of k). This means that initially you get a really good improvement on accuracy but later, the accuracy saturates and no benefit is observed by adding more training examples."
   ]
  },
  {
   "cell_type": "markdown",
   "metadata": {},
   "source": [
    "**Part B**: Explore the relationship between the number of nearest neighbors and accuracy on the test set. Comment on your findings and support your observations with some kind of graphic. "
   ]
  },
  {
   "cell_type": "code",
   "execution_count": 70,
   "metadata": {},
   "outputs": [
    {
     "name": "stdout",
     "output_type": "stream",
     "text": [
      "1 done!\n",
      "2 done!\n",
      "3 done!\n",
      "4 done!\n",
      "5 done!\n",
      "6 done!\n",
      "7 done!\n",
      "8 done!\n",
      "9 done!\n",
      "10 done!\n"
     ]
    },
    {
     "data": {
      "image/png": "[encoded data removed]",
      "text/plain": [
       "<matplotlib.figure.Figure at 0x1107fc940>"
      ]
     },
     "metadata": {},
     "output_type": "display_data"
    }
   ],
   "source": [
    "k_values_x = []\n",
    "test_accuracy_y = []\n",
    "for i in range(1,11):\n",
    "    k_values_x.append(i)\n",
    "    knn = Knearest(data.train_x[:1000], data.train_y[:1000], i)\n",
    "    confusion = knn.confusion_matrix(data.test_x, data.test_y)\n",
    "    test_accuracy_y.append(knn.accuracy(confusion))\n",
    "plt.plot(k_values_x, test_accuracy_y)\n",
    "plt.xlabel('Number of k-nearest neighbors')\n",
    "plt.ylabel('Test set accuracy')\n",
    "plt.title('Relationship k-nearest neighbors and test set accuracy')\n",
    "plt.show()"
   ]
  },
  {
   "cell_type": "markdown",
   "metadata": {},
   "source": [
    "**Explanation**: As the number of nearest neighbors (k) increases, the accuracy decreases linearly. The graph above has been generated using 1000 training examples for 10 values of k."
   ]
  },
  {
   "cell_type": "markdown",
   "metadata": {},
   "source": [
    "**Part C**: Which numbers get confused with each other the most easily?  Use the confusion_matrix function that you wrote above to support your conclusion.  Then use the `view_digit` function given below to plot a few examples of misclassified digits and discuss possible reasons for the misclassifications.  (Investigating misclassified examples is called **error analysis** and is an important step in the development of any classification technique).  "
   ]
  },
  {
   "cell_type": "code",
   "execution_count": 94,
   "metadata": {},
   "outputs": [
    {
     "name": "stdout",
     "output_type": "stream",
     "text": [
      "[[ 947    1    7    1    3    5   12    5    1    9]\n",
      " [   0 1056    0    1    1    0    0    6    0    0]\n",
      " [  12   45  810    7   11    2    5   81    7   10]\n",
      " [   5   12   28  877    4   41    6   16   20   21]\n",
      " [   1   24    1    0  792    1    7   31    0  126]\n",
      " [  18   16    1   49   24  716   24   14    8   45]\n",
      " [  14   16    8    0   10    6  911    1    0    1]\n",
      " [   0   23    0    1    8    0    0 1022    0   36]\n",
      " [  20   53   23   36   12   22   16   37  735   55]\n",
      " [   5    7    2   11   42    4    0   66    0  824]]\n"
     ]
    }
   ],
   "source": [
    "knn = Knearest(data.train_x[:1000], data.train_y[:1000], 3)\n",
    "confusion = knn.confusion_matrix(data.test_x, data.test_y)\n",
    "def view_digit(example, label=None):\n",
    "    if label: print(\"true label: {:d}\".format(label))\n",
    "    plt.imshow(example.reshape(28,28), cmap='gray');\n",
    "\n",
    "#view_digit(data.train_x[0,:], data.train_y[0])\n",
    "print(confusion)"
   ]
  },
  {
   "cell_type": "code",
   "execution_count": 125,
   "metadata": {},
   "outputs": [
    {
     "name": "stdout",
     "output_type": "stream",
     "text": [
      "true label 0 predicted as 6, 12 times.\n",
      "true label 1 predicted as 7, 6 times.\n",
      "true label 2 predicted as 7, 81 times.\n",
      "true label 3 predicted as 5, 41 times.\n",
      "true label 4 predicted as 9, 126 times.\n",
      "true label 5 predicted as 3, 49 times.\n",
      "true label 6 predicted as 1, 16 times.\n",
      "true label 7 predicted as 9, 36 times.\n",
      "true label 8 predicted as 9, 55 times.\n",
      "true label 9 predicted as 7, 66 times.\n"
     ]
    },
    {
     "data": {
      "image/png": "[encoded data removed]",
      "text/plain": [
       "<matplotlib.figure.Figure at 0x112439630>"
      ]
     },
     "metadata": {},
     "output_type": "display_data"
    },
    {
     "data": {
      "image/png": "[encoded data removed]",
      "text/plain": [
       "<matplotlib.figure.Figure at 0x110b900b8>"
      ]
     },
     "metadata": {},
     "output_type": "display_data"
    },
    {
     "data": {
      "image/png": "[encoded data removed]",
      "text/plain": [
       "<matplotlib.figure.Figure at 0x110f93710>"
      ]
     },
     "metadata": {},
     "output_type": "display_data"
    },
    {
     "data": {
      "image/png": "[encoded data removed]",
      "text/plain": [
       "<matplotlib.figure.Figure at 0x11243b7f0>"
      ]
     },
     "metadata": {},
     "output_type": "display_data"
    },
    {
     "data": {
      "image/png": "[encoded data removed]",
      "text/plain": [
       "<matplotlib.figure.Figure at 0x110b28d68>"
      ]
     },
     "metadata": {},
     "output_type": "display_data"
    },
    {
     "data": {
      "image/png": "[encoded data removed]",
      "text/plain": [
       "<matplotlib.figure.Figure at 0x111861e10>"
      ]
     },
     "metadata": {},
     "output_type": "display_data"
    },
    {
     "data": {
      "image/png": "[encoded data removed]",
      "text/plain": [
       "<matplotlib.figure.Figure at 0x110b107f0>"
      ]
     },
     "metadata": {},
     "output_type": "display_data"
    },
    {
     "data": {
      "image/png": "[encoded data removed]",
      "text/plain": [
       "<matplotlib.figure.Figure at 0x112234240>"
      ]
     },
     "metadata": {},
     "output_type": "display_data"
    },
    {
     "data": {
      "image/png": "[encoded data removed]",
      "text/plain": [
       "<matplotlib.figure.Figure at 0x1124bbb00>"
      ]
     },
     "metadata": {},
     "output_type": "display_data"
    },
    {
     "data": {
      "image/png": "[encoded data removed]",
      "text/plain": [
       "<matplotlib.figure.Figure at 0x110b99d30>"
      ]
     },
     "metadata": {},
     "output_type": "display_data"
    }
   ],
   "source": [
    "\n",
    "for i in range(len(confusion)):\n",
    "    max_i = -1\n",
    "    max_j = -1\n",
    "    max_v = -1\n",
    "    for j in range(len(confusion[i])):\n",
    "        if i!=j:\n",
    "            if(confusion[i][j] > max_v):\n",
    "                max_i = i\n",
    "                max_j = j\n",
    "                max_v = confusion[i][j]\n",
    "    fig = plt.figure()\n",
    "    print(\"true label \"+str(max_i)+\" predicted as \"+str(max_j)+\", \"+str(max_v)+\" times.\")\n",
    "    found1 = False\n",
    "    found2 = False\n",
    "    count = 1\n",
    "    for k in range(len(data.train_y)):\n",
    "        if(data.train_y[k] == max_i and found1==False):\n",
    "            #view_digit(data.train_x[i,:], data.train_y[i])\n",
    "            example = data.train_x[k,:]\n",
    "            fig.add_subplot(3, 1, 1)\n",
    "            count=count+1\n",
    "            plt.imshow(example.reshape(28,28), cmap='gray')\n",
    "            found1 = True\n",
    "        if(data.train_y[k] == max_j and found2==False):\n",
    "            #view_digit(data.train_x[i,:], data.train_y[i])\n",
    "            example = data.train_x[k,:]\n",
    "            fig.add_subplot(3, 3, 1)\n",
    "            count= count+1\n",
    "            plt.imshow(example.reshape(28,28), cmap='gray')\n",
    "            found2 = True\n",
    "        if(found1 and found2):\n",
    "            break\n",
    "    "
   ]
  },
  {
   "cell_type": "markdown",
   "metadata": {},
   "source": [
    "**Explanation**: For the most part, the model got confused between 4 and 9 (126 times!) which makes sense since both the digits look quite the same at times. The model also got confused between 2 and 7 (81 times!) which also look similar. There can be mislabeling also because of the way we are breaking the tie in kNN algorithm, it may change as we change the heuristics of handling the tie cases. "
   ]
  }
 ],
 "metadata": {
  "kernelspec": {
   "display_name": "Python 3",
   "language": "python",
   "name": "python3"
  },
  "language_info": {
   "codemirror_mode": {
    "name": "ipython",
    "version": 3
   },
   "file_extension": ".py",
   "mimetype": "text/x-python",
   "name": "python",
   "nbconvert_exporter": "python",
   "pygments_lexer": "ipython3",
   "version": "3.6.4"
  }
 },
 "nbformat": 4,
 "nbformat_minor": 2
}
