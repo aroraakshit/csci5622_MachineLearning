{
 "cells": [
  {
   "cell_type": "markdown",
   "metadata": {},
   "source": [
    "# Boosting Homework \n",
    "***\n",
    "**Name**: Akshit Arora\n",
    "***\n",
    "\n",
    "This assignment is due on Moodle by **5pm on Friday April 13th**. Submit only this Jupyter notebook to Moodle.  Do not compress it using tar, rar, zip, etc. Your solutions to analysis questions should be done in Markdown directly below the associated question.  Remember that you are encouraged to discuss the problems with your instructors and classmates, but **you must write all code and solutions on your own**.  For a refresher on the course **Collaboration Policy** click [here](https://github.com/chrisketelsen/CSCI5622-Machine-Learning/blob/master/resources/syllabus.md#collaboration-policy)\n",
    "\n"
   ]
  },
  {
   "cell_type": "markdown",
   "metadata": {},
   "source": [
    "## Overview \n",
    "***\n",
    "\n",
    "\n",
    "\n",
    "In this homework you'll implement the AdaBoost classification framework to do handwritten digit recognition. Your implementation should be based on the description of AdaBoost given in the lecture slides.\n",
    "\n",
    "<br>\n",
    "\n",
    "![digits](mnist.png \"mnist data\")\n",
    "\n",
    "\n",
    "<br>\n",
    "\n",
    "Here are the rules: \n",
    "\n",
    "- Do **NOT** use sklearn's implementation of Adaboost.  You may however use sklearn's implementation of decisions trees. \n",
    "- Do **NOT** load or use any Python packages that are not available in Anaconda 3.6. \n",
    "- Some problems with code may be autograded.  If we provide a function or class API **do not** change it.\n",
    "- Do not change the location of the data or data directory.  Use only relative paths to access the data. "
   ]
  },
  {
   "cell_type": "code",
   "execution_count": 2,
   "metadata": {
    "ExecuteTime": {
     "end_time": "2018-04-14T19:47:20.813938Z",
     "start_time": "2018-04-14T19:47:20.807376Z"
    }
   },
   "outputs": [],
   "source": [
    "import numpy as np\n",
    "from sklearn.tree import DecisionTreeClassifier\n",
    "from sklearn.base import clone \n",
    "from sklearn.metrics import accuracy_score\n",
    "import matplotlib.pylab as plt\n",
    "%matplotlib inline "
   ]
  },
  {
   "cell_type": "markdown",
   "metadata": {},
   "source": [
    "### [5 points] Problem 1\n",
    "***\n",
    "\n",
    "Since we'll be working with binary classifiers, we'll look at the subset of the MNIST data pertaining to handwritten three's and eights. Note that we'll also be using a lower-res version of the MNIST data used in the KNN homework. The class below will load, parse, and store the subset of the. Load the data and then report: \n",
    "\n",
    "- The number of examples in the training set \n",
    "- The number of examples in the validation set \n",
    "- The number of pixels in each image. "
   ]
  },
  {
   "cell_type": "code",
   "execution_count": 3,
   "metadata": {
    "ExecuteTime": {
     "end_time": "2018-04-14T19:47:21.869473Z",
     "start_time": "2018-04-14T19:47:21.834856Z"
    }
   },
   "outputs": [],
   "source": [
    "class ThreesAndEights:\n",
    "    \"\"\"\n",
    "    Class to store MNIST data\n",
    "    \"\"\"\n",
    "\n",
    "    def __init__(self, location):\n",
    "\n",
    "        import pickle, gzip\n",
    "\n",
    "        # Load the dataset\n",
    "        f = gzip.open(location, 'rb')\n",
    "\n",
    "        # Split the data set \n",
    "        X_train, y_train, X_valid, y_valid = pickle.load(f)\n",
    "        \n",
    "        # Extract only 3's and 8's for training set \n",
    "        self.X_train = X_train[np.logical_or( y_train==3, y_train == 8), :]\n",
    "        self.y_train = y_train[np.logical_or( y_train==3, y_train == 8)]\n",
    "        self.y_train = np.array([1 if y == 8 else -1 for y in self.y_train])\n",
    "        \n",
    "        # Shuffle the training data \n",
    "        shuff = np.arange(self.X_train.shape[0])\n",
    "        np.random.shuffle(shuff)\n",
    "        self.X_train = self.X_train[shuff,:]\n",
    "        self.y_train = self.y_train[shuff]\n",
    "\n",
    "        # Extract only 3's and 8's for validation set \n",
    "        self.X_valid = X_valid[np.logical_or( y_valid==3, y_valid == 8), :]\n",
    "        self.y_valid = y_valid[np.logical_or( y_valid==3, y_valid == 8)]\n",
    "        self.y_valid = np.array([1 if y == 8 else -1 for y in self.y_valid])\n",
    "        \n",
    "        f.close()"
   ]
  },
  {
   "cell_type": "code",
   "execution_count": 4,
   "metadata": {
    "ExecuteTime": {
     "end_time": "2018-04-14T19:47:22.506234Z",
     "start_time": "2018-04-14T19:47:22.436650Z"
    }
   },
   "outputs": [],
   "source": [
    "data = ThreesAndEights(\"../data/mnist21x21_3789.pklz\")"
   ]
  },
  {
   "cell_type": "code",
   "execution_count": 5,
   "metadata": {
    "ExecuteTime": {
     "end_time": "2018-04-14T19:47:22.692272Z",
     "start_time": "2018-04-14T19:47:22.685689Z"
    }
   },
   "outputs": [
    {
     "name": "stdout",
     "output_type": "stream",
     "text": [
      "Number of examples of 3 and 8 in training set: 2000\n",
      "Number of examples of 3 and 8 in validation set: 500\n",
      "Number of pixels in each image: 441\n"
     ]
    }
   ],
   "source": [
    "print(\"Number of examples of 3 and 8 in training set: \"+str(len(data.X_train)))\n",
    "print(\"Number of examples of 3 and 8 in validation set: \"+str(len(data.X_valid)))\n",
    "print(\"Number of pixels in each image: \"+str(len(data.X_valid[0])))"
   ]
  },
  {
   "cell_type": "markdown",
   "metadata": {},
   "source": [
    "### [20 points] Problem 2: Implementing AdaBoost  \n",
    "***\n",
    "\n",
    "We've given you a skeleton of the class `AdaBoost` below which will train a classifier based on boosted shallow decision trees as implemented by sklearn. Take a look at the class skeleton first so that you understand the underlying organization and data structures that we'll be using.  "
   ]
  },
  {
   "cell_type": "code",
   "execution_count": 24,
   "metadata": {
    "ExecuteTime": {
     "end_time": "2018-04-14T20:29:13.405750Z",
     "start_time": "2018-04-14T20:29:13.060104Z"
    }
   },
   "outputs": [],
   "source": [
    "import math\n",
    "class AdaBoost:\n",
    "    def __init__(self, n_learners=20, base=DecisionTreeClassifier(max_depth=1), random_state=1234):\n",
    "        \"\"\"\n",
    "        Create a new adaboost classifier.\n",
    "        \n",
    "        Args:\n",
    "            N (int, optional): Number of weak learners in classifier.\n",
    "            base (BaseEstimator, optional): Your general weak learner \n",
    "            random_state (int, optional): set random generator.  needed for unit testing. \n",
    "\n",
    "        Attributes:\n",
    "            base (estimator): Your general weak learner \n",
    "            n_learners (int): Number of weak learners in classifier.\n",
    "            alpha (ndarray): Coefficients on weak learners. \n",
    "            learners (list): List of weak learner instances. \n",
    "        \"\"\"\n",
    "        \n",
    "        np.random.seed(random_state)\n",
    "        \n",
    "        self.n_learners = n_learners \n",
    "        self.base = base\n",
    "        self.alpha = np.zeros(self.n_learners)\n",
    "        self.learners = []\n",
    "        \n",
    "    def fit(self, X_train, y_train):\n",
    "        \"\"\"\n",
    "        Train AdaBoost classifier on data. Sets alphas and learners. \n",
    "        \n",
    "        Args:\n",
    "            X_train (ndarray): [n_samples x n_features] ndarray of training data   \n",
    "            y_train (ndarray): [n_samples] ndarray of data \n",
    "        \"\"\"\n",
    "        \n",
    "        # TODO \n",
    "\n",
    "        # Note: You can create and train a new instantiation \n",
    "        # of your sklearn decision tree as follows \n",
    "\n",
    "        w = np.ones(len(y_train))\n",
    "        w *= (1.0 / len(y_train))\n",
    "        \n",
    "        for i in range(self.n_learners): #go per learner\n",
    "            h = clone(self.base)\n",
    "            #fit classifier to training data\n",
    "            h.fit(X_train, y_train, sample_weight=w)\n",
    "            \n",
    "            #compute weighted error\n",
    "#             preds = np.zeros(len(y_train)) #improve run time by using broadcasting\n",
    "#             for j in range(len(y_train)): #go per example\n",
    "#                 preds[j] = h.predict(X_train[j].reshape(1,-1))\n",
    "            preds = h.predict(X_train)\n",
    "            \n",
    "            error = 0.0\n",
    "#             for j in range(len(y_train)): #change implementation to numpy broadcasting to improve runtime\n",
    "#                 error += (w[j]*(y_train[j] != preds[j]))\n",
    "            error = np.sum(w * (y_train != preds), axis = 0)\n",
    "            error /= np.sum(w, axis = 0)\n",
    "            \n",
    "            #calculate alpha\n",
    "            self.alpha[i] = 0.5 * np.log((1.0 - error)/error)\n",
    "            \n",
    "            # update weights, change for loop implementation to numpy broadcasting to improve runtime\n",
    "#             for j in range(len(y_train)):\n",
    "#                 w[j] = w[j] * math.exp(-1.0 * self.alpha[i] * y_train[j] * preds[j])\n",
    "            pc1 = y_train * preds\n",
    "            pc2 = pc1 * -1.0 * self.alpha[i]\n",
    "            pc3 = np.exp(pc2)\n",
    "            w = w * pc3\n",
    "            w = w / np.sum(w)\n",
    "            self.learners.append(h)\n",
    "            \n",
    "    def predict(self, X):\n",
    "        \"\"\"\n",
    "        Adaboost prediction for new data X.\n",
    "        \n",
    "        Args:\n",
    "            X (ndarray): [n_samples x n_features] ndarray of data \n",
    "            \n",
    "        Returns: \n",
    "            yhat (ndarray): [n_samples] ndarray of predicted labels {-1,1}\n",
    "        \"\"\"\n",
    "\n",
    "        # TODO \n",
    "        preds = np.zeros(X.shape[0])\n",
    "        pred_sc = np.zeros((X.shape[0], self.n_learners))\n",
    "#         for i in range(len(X)): #go per example #change implementation due to slot runtime\n",
    "#             pred = 0\n",
    "#             for j in range(len(self.learners)): #go per learner\n",
    "#                 pred += self.alpha[j] * self.learners[j].predict(X[i].reshape(1, -1))\n",
    "#             if(pred >= 0):\n",
    "#                 preds[i] = 1\n",
    "#             else:\n",
    "#                 preds[i] = -1\n",
    "        for i in range(self.n_learners): #go per learner and calculate predictions and replicate across rows!\n",
    "            pred_sc[:, i] = self.alpha[i] * self.learners[i].predict(X)\n",
    "        \n",
    "        preds = np.sum(pred_sc, axis = 1)\n",
    "        prepare = np.vectorize(lambda x : 1 if x > 0 else -1) #creates vector from predictions based on its values\n",
    "        return prepare(preds)\n",
    "        \n",
    "    \n",
    "    def score(self, X, y):\n",
    "        \"\"\"\n",
    "        Computes prediction accuracy of classifier.  \n",
    "        \n",
    "        Args:\n",
    "            X (ndarray): [n_samples x n_features] ndarray of data \n",
    "            y (ndarray): [n_samples] ndarray of true labels  \n",
    "            \n",
    "        Returns: \n",
    "            Prediction accuracy (between 0.0 and 1.0).\n",
    "        \"\"\"\n",
    "\n",
    "        \n",
    "        # TODO \n",
    "        \n",
    "        preds = self.predict(X)\n",
    "                \n",
    "        return accuracy_score(y, preds)\n",
    "        \n",
    "    \n",
    "    def staged_score(self, X, y):\n",
    "        \"\"\"\n",
    "        Computes the ensemble score after each iteration of boosting \n",
    "        for monitoring purposes, such as to determine the score on a \n",
    "        test set after each boost.\n",
    "        \n",
    "        Args:\n",
    "            X (ndarray): [n_samples x n_features] ndarray of data \n",
    "            y (ndarray): [n_samples] ndarray of true labels  \n",
    "            \n",
    "        Returns: \n",
    "            scores (ndarary): [n_learners] ndarray of scores \n",
    "        \"\"\"\n",
    "\n",
    "        # TODO \n",
    "        stage_score = np.zeros(self.n_learners)\n",
    "        num_learners = self.n_learners\n",
    "        original_learners = self.learners\n",
    "        for i in range(num_learners): #go per learner\n",
    "            self.learners = original_learners[:(i+1)]\n",
    "            self.n_learners = i+1\n",
    "            #score on test set after each boost\n",
    "            stage_score[i] = self.score(X,y)\n",
    "\n",
    "        return stage_score\n",
    "    \n",
    "    def staged_margin(self, x, y):\n",
    "        \"\"\"\n",
    "        Computes the staged margin after each iteration of boosting \n",
    "        for a single training example x and true label y\n",
    "        \n",
    "        Args:\n",
    "            x (ndarray): [n_features] ndarray of data \n",
    "            y (integer): an integer {-1,1} representing the true label of x \n",
    "            \n",
    "        Returns: \n",
    "            margins (ndarary): [n_learners] ndarray of margins \n",
    "        \"\"\"\n",
    "        \n",
    "        # TODO \n",
    "        \n",
    "        stage_margin = np.zeros(self.n_learners)\n",
    "        \n",
    "        a_h = self.alpha / np.sum(self.alpha, axis = 0)\n",
    "        stage_predict = np.array([l.predict(np.reshape(x, (1, -1)))[0] for l in self.learners])\n",
    "\n",
    "        for i in range(self.n_learners):\n",
    "            same_mask = stage_predict[: i + 1] == y\n",
    "            stage_margin[i] = np.sum(a_h[: i + 1][same_mask], axis = 0) - np.sum(a_h[: i + 1][~same_mask], axis = 0)\n",
    "                \n",
    "        return stage_margin"
   ]
  },
  {
   "cell_type": "markdown",
   "metadata": {},
   "source": [
    "Recall that the model we attempt to learn in AdaBoost is given by \n",
    "\n",
    "$$\n",
    "H({\\bf x}) = \\textrm{sign}\\left[\\displaystyle\\sum_{k=1}^K\\alpha_k h_k({\\bf x}) \\right]\n",
    "$$\n",
    "\n",
    "where $h_k({\\bf x})$ is the $k^\\textrm{th}$ weak learner and $\\alpha_k$ is it's associated ensemble coefficient.  \n",
    "\n",
    "**Part A**: Implement the `fit` method to learn the sequence of weak learners $\\left\\{h_k({\\bf x})\\right\\}_{k=1}^K$ and corresponding coefficients $\\left\\{ \\alpha_k\\right\\}_{k=1}^K$. Note that you may use sklearn's implementation of DecisionTreeClassifier as your weak learner which allows you to pass as an optional parameter the weights associated with each training example.  An example of instantiating and training a single learner is given in the comments of the `fit` method.  \n",
    "\n",
    "When you think you're done, run the following unit tests which corresponds to the AdaBoost example given in the lecture slides. \n"
   ]
  },
  {
   "cell_type": "code",
   "execution_count": 7,
   "metadata": {
    "ExecuteTime": {
     "end_time": "2018-04-14T19:47:27.098867Z",
     "start_time": "2018-04-14T19:47:27.088288Z"
    }
   },
   "outputs": [
    {
     "name": "stderr",
     "output_type": "stream",
     "text": [
      "test_alphas (__main__.TestBoost) ... ok\n",
      "\n",
      "----------------------------------------------------------------------\n",
      "Ran 1 test in 0.005s\n",
      "\n",
      "OK\n"
     ]
    }
   ],
   "source": [
    "%run -i tests.py \"part A\""
   ]
  },
  {
   "cell_type": "markdown",
   "metadata": {},
   "source": [
    "**Part B**: After your `fit` method is working properly, implement the `predict` method to make predictions for unseen examples stored in a data matrix ${\\bf X}$.  \n",
    "\n",
    "**Note**: Remember that AdaBoost assumes that your predictions are of the form $y \\in \\{-1, 1\\}$. \n",
    "\n",
    "When you think you're done, run the following unit tests which corresponds to the AdaBoost example given in the lecture slides. "
   ]
  },
  {
   "cell_type": "code",
   "execution_count": 8,
   "metadata": {
    "ExecuteTime": {
     "end_time": "2018-04-14T19:47:27.901164Z",
     "start_time": "2018-04-14T19:47:27.889524Z"
    }
   },
   "outputs": [
    {
     "name": "stderr",
     "output_type": "stream",
     "text": [
      "test_prediction (__main__.TestBoost) ... ok\n",
      "\n",
      "----------------------------------------------------------------------\n",
      "Ran 1 test in 0.005s\n",
      "\n",
      "OK\n"
     ]
    }
   ],
   "source": [
    "%run -i tests.py \"part B\""
   ]
  },
  {
   "cell_type": "markdown",
   "metadata": {},
   "source": [
    "**Part C**: Next, implement the `score` method which takes in a matrix of examples ${\\bf X}$ and their associated true labels ${\\bf y}$, makes predictions, and returns the classification accuracy.   \n",
    "\n",
    "When you think you're done, run the following unit tests. "
   ]
  },
  {
   "cell_type": "code",
   "execution_count": 9,
   "metadata": {
    "ExecuteTime": {
     "end_time": "2018-04-14T19:47:28.450766Z",
     "start_time": "2018-04-14T19:47:28.440192Z"
    }
   },
   "outputs": [
    {
     "name": "stderr",
     "output_type": "stream",
     "text": [
      "test_score (__main__.TestBoost) ... ok\n",
      "\n",
      "----------------------------------------------------------------------\n",
      "Ran 1 test in 0.005s\n",
      "\n",
      "OK\n"
     ]
    }
   ],
   "source": [
    "%run -i tests.py \"part C\""
   ]
  },
  {
   "cell_type": "markdown",
   "metadata": {},
   "source": [
    "**Part D**: Finally, implement the `staged_score` method to return an array of prediction accuracies after each iteration of the AdaBoost algorithm.  That is, the staged score array ${\\bf s}$ is defined such that ${\\bf s}_\\ell$ is the prediction accuracy using only the first $\\ell$ weak learners.  This function is primarily used as a diagnostic tool for analyzing the performance of your classifier during the training process.  \n",
    "\n",
    "**Note**: This method can be implemented in a very efficient or very **in**efficient matter.  Be sure to think about this a bit before diving in. \n",
    "\n",
    "\n",
    "When you think you're done, run the following unit tests. "
   ]
  },
  {
   "cell_type": "code",
   "execution_count": 10,
   "metadata": {
    "ExecuteTime": {
     "end_time": "2018-04-14T19:47:29.596380Z",
     "start_time": "2018-04-14T19:47:29.585001Z"
    }
   },
   "outputs": [
    {
     "name": "stderr",
     "output_type": "stream",
     "text": [
      "test_staged_score (__main__.TestBoost) ... ok\n",
      "\n",
      "----------------------------------------------------------------------\n",
      "Ran 1 test in 0.006s\n",
      "\n",
      "OK\n"
     ]
    }
   ],
   "source": [
    "%run -i tests.py \"part D\""
   ]
  },
  {
   "cell_type": "markdown",
   "metadata": {},
   "source": [
    "### [10 points] Problem 3: AdaBoost for Handwritten Digit Recognition \n",
    "***\n",
    "\n",
    "Use your AdaBoost code with Sklearn's DecisionTreeClassifier as the base learner to distinguish $3$'s from $8$'s. \n",
    "Run $n=500$ boosting iterations with trees of depths 1, 2, and 3 (go deeper if you like) as the weak learner. For each weak learner, plot the training and validation error per boosting iteration (on the same set of axes). Compare and contrast the different weak learners. Which works the best? Do you see signs of overfitting? Do any of classifiers achieve nearly 100% accuracy on the training data? What happens to the accuracy on the validation data on further iterations?"
   ]
  },
  {
   "cell_type": "code",
   "execution_count": 12,
   "metadata": {
    "ExecuteTime": {
     "end_time": "2018-04-14T20:04:15.728631Z",
     "start_time": "2018-04-14T19:47:53.984495Z"
    }
   },
   "outputs": [
    {
     "name": "stdout",
     "output_type": "stream",
     "text": [
      "Calculating for depth = 1\n",
      "Calculating for depth = 2\n",
      "Calculating for depth = 3\n",
      "Calculating for depth = 4\n",
      "Calculating for depth = 5\n"
     ]
    },
    {
     "data": {
      "image/png": "[encoded data removed]",
      "text/plain": [
       "<matplotlib.figure.Figure at 0x114164e48>"
      ]
     },
     "metadata": {},
     "output_type": "display_data"
    }
   ],
   "source": [
    "depth_values = [1,2,3,4,5]\n",
    "staged_score_valid = {}\n",
    "staged_score_train = {}\n",
    "for depth in depth_values:\n",
    "    print(\"Calculating for depth = \"+str(depth))\n",
    "    instance = AdaBoost(n_learners=500, base = DecisionTreeClassifier(max_depth = depth))\n",
    "    instance.fit(data.X_train, data.y_train)\n",
    "    errors = instance.staged_score(data.X_train, data.y_train)\n",
    "    errors_v = instance.staged_score(data.X_valid, data.y_valid)\n",
    "    plt.plot(errors, label=str(depth)+str(\" Train\"))\n",
    "    plt.plot(errors_v, label=str(depth)+str(\" Valid\"))\n",
    "    staged_score_valid[depth] = errors_v\n",
    "    staged_score_train[depth] = errors\n",
    "\n",
    "plt.xlabel('Number of Boosting Iterations')  \n",
    "plt.legend()\n",
    "plt.ylabel('Accuracy Score')    \n",
    "plt.show()"
   ]
  },
  {
   "cell_type": "markdown",
   "metadata": {},
   "source": [
    "**A**: Learners with depth = 2, 3 work the best!\n",
    "\n",
    "There are no signs of overfitting because Validation score does not decrease after certain number of boosting iterations, it sorts of becomes constant.\n",
    "\n",
    "Nearly all the classifiers give 100% accuracy on test set given enough iterations. The validation set accuracy approaches a constant value."
   ]
  },
  {
   "cell_type": "markdown",
   "metadata": {},
   "source": [
    "### [15 points] Problem 4: AdaBoost as a Margin-Maximizing Model \n",
    "***\n",
    "\n",
    "Despite the fact that we're making our model more complex with the addition of each weak learner, AdaBoost does not typically overfit the training data. The reason for this is that the model becomes more _confident_ with each boosting iteration. This _confidence_ can be interpreted mathematically as a margin. Recall that after $K$ iterations the algorithm terminates with the classifier \n",
    "\n",
    "$$\n",
    "H({\\bf x}) = \\textrm{sign}\\left[\\displaystyle\\sum_{k=1}^K\\alpha_k h_k({\\bf x}) \\right]\n",
    "$$\n",
    "\n",
    "Similarly, we can define the intermediate classifier $H_\\ell$ by \n",
    "\n",
    "$$\n",
    "H_\\ell({\\bf x}) = \\textrm{sign}\\left[\\displaystyle\\sum_{k=1}^\\ell\\alpha_k h_k({\\bf x}) \\right]\n",
    "$$\n",
    "\n",
    "where $\\ell \\leq K$. Note that in either case the model returns predictions of the form $y \\in \\{-1, 1\\}$ which does not give us any indication of the model's confidence in a prediction. Define the normalized coefficients $\\hat{\\alpha}_k$ as follows: \n",
    "\n",
    "$$\n",
    "\\hat{\\alpha}_k = \\dfrac{\\alpha_k}{\\sum_{t=1}^K \\alpha_k}\n",
    "$$\n",
    "\n",
    "Define the margin of a training example ${\\bf x}$ after $\\ell$ iterations as the sum of the normalized coefficients of weak learners that vote correctly minus the sum of the normalized coefficients of the weak learners that vote incorrectly: \n",
    "\n",
    "$$\n",
    "\\textrm{margin}_\\ell ({\\bf x}) = \\sum_{k=1:~h_k({\\bf x}) = y}^\\ell \\hat{\\alpha}_k - \\sum_{k=1:~h_k({\\bf x}) \\neq y}^\\ell \\hat{\\alpha}_k \n",
    "$$\n",
    "\n",
    "**Part A**: Briefly explain mathematically how $\\textrm{margin}_\\ell({\\bf x})$ can be interpreted as a margin.  **Hint**: You'll want to think back on what we meant by a _margin_ in our discussion of Support Vector Machines. "
   ]
  },
  {
   "cell_type": "markdown",
   "metadata": {
    "ExecuteTime": {
     "end_time": "2018-04-14T20:04:15.738900Z",
     "start_time": "2018-04-14T20:04:15.730973Z"
    },
    "collapsed": true
   },
   "source": [
    "**A**: The magnitude of margin represents the confidence of predictions (ranging from -1 to 1) as follows:\n",
    "$$\n",
    "\\textrm{margin}_\\ell ({\\bf x}) = \\sum_{k=1:~h_k({\\bf x}) = y}^\\ell \\hat{\\alpha}_k - \\sum_{k=1:~h_k({\\bf x}) \\neq y}^\\ell \\hat{\\alpha}_k = y * \\textrm{f}({\\bf x})\n",
    "$$\n",
    "It is positive if the vote gives the correct classification. Otherwise it’s negative. Therefore, the sign tells whether the training example is on correct side of decision boundary and the magnitude $(\\textrm{margin}_\\ell)$ tells how far from decision boundary is current example situated. AdaBoost pushes the cumulative margins\n",
    "distribution towards higher margins. All things being equal, higher margins mean lower generalization error. Thus, a large positive margin can be interpreted as a training example being far from the decision boundary on the correct side which means\"confident\" correct classification."
   ]
  },
  {
   "cell_type": "markdown",
   "metadata": {},
   "source": [
    "**Part B**: Complete the `staged_margin` method in the `AdaBoost` class above so that it computes the margin for a single training example ${\\bf x}$ after each boosting iteration. "
   ]
  },
  {
   "cell_type": "markdown",
   "metadata": {
    "ExecuteTime": {
     "end_time": "2018-04-14T20:04:15.740344Z",
     "start_time": "2018-04-14T19:51:45.036Z"
    },
    "collapsed": true
   },
   "source": [
    "**A**: done, please check the code above."
   ]
  },
  {
   "cell_type": "markdown",
   "metadata": {},
   "source": [
    "**Part C**: Find four **training** examples from the MNIST that meet the following criteria: \n",
    "\n",
    "- one $3$ that AdaBoost can classify easily  \n",
    "- one $8$ that AdaBoost can classify easily  \n",
    "- one $3$ that AdaBoost has difficulty with \n",
    "- one $8$ that AdaBoost has difficulty with \n",
    "\n",
    "Use the `view_digit` function given below to display the four examples that you found. \n",
    "\n",
    "**Advice**: Since AdaBoost will likely classify **all** training examples correctly given enough boosting iterations, you might try fitting an AdaBoost classifier with just a handful of boosting iterations and use it to identify examples of each desired type. "
   ]
  },
  {
   "cell_type": "code",
   "execution_count": 15,
   "metadata": {
    "ExecuteTime": {
     "end_time": "2018-04-14T20:27:12.896506Z",
     "start_time": "2018-04-14T20:27:12.892332Z"
    }
   },
   "outputs": [],
   "source": [
    "def view_digit(example, label=None):\n",
    "    if label: print(\"true label: {:d}\".format(label))\n",
    "    plt.imshow(example.reshape(21,21), cmap='gray');"
   ]
  },
  {
   "cell_type": "code",
   "execution_count": 16,
   "metadata": {
    "ExecuteTime": {
     "end_time": "2018-04-14T20:27:15.412604Z",
     "start_time": "2018-04-14T20:27:15.156777Z"
    }
   },
   "outputs": [],
   "source": [
    "n_learners = 10\n",
    "adaboost_classifer = AdaBoost(n_learners = n_learners, base=DecisionTreeClassifier(max_depth=1))\n",
    "adaboost_classifer.fit(data.X_train, data.y_train)\n",
    "predictions = adaboost_classifer.predict(data.X_train)\n",
    "\n",
    "correct_3_indices = np.nonzero((predictions == -1) & (data.y_train == -1))[0]\n",
    "correct_8_indices = np.nonzero((predictions == 1) & (data.y_train == 1))[0]\n",
    "\n",
    "incorrect_3_indices = np.nonzero((predictions == 1) & (data.y_train == -1))[0]\n",
    "incorrect_8_indices = np.nonzero((predictions == -1) & (data.y_train == 1))[0]"
   ]
  },
  {
   "cell_type": "code",
   "execution_count": 17,
   "metadata": {
    "ExecuteTime": {
     "end_time": "2018-04-14T20:27:30.900481Z",
     "start_time": "2018-04-14T20:27:30.896859Z"
    }
   },
   "outputs": [],
   "source": [
    "def plot_req(data, index):\n",
    "    view_digit(data.X_train[index, :], data.y_train[index])\n",
    "    return index"
   ]
  },
  {
   "cell_type": "code",
   "execution_count": 30,
   "metadata": {
    "ExecuteTime": {
     "end_time": "2018-04-14T20:32:41.763188Z",
     "start_time": "2018-04-14T20:32:41.596246Z"
    }
   },
   "outputs": [
    {
     "name": "stdout",
     "output_type": "stream",
     "text": [
      "true label: -1\n"
     ]
    },
    {
     "data": {
      "image/png": "[encoded data removed]",
      "text/plain": [
       "<matplotlib.figure.Figure at 0x111b56eb8>"
      ]
     },
     "metadata": {},
     "output_type": "display_data"
    }
   ],
   "source": [
    "easy_3_index = plot_req(data, np.random.choice(correct_3_indices))"
   ]
  },
  {
   "cell_type": "code",
   "execution_count": 19,
   "metadata": {
    "ExecuteTime": {
     "end_time": "2018-04-14T20:27:52.946136Z",
     "start_time": "2018-04-14T20:27:52.794872Z"
    }
   },
   "outputs": [
    {
     "name": "stdout",
     "output_type": "stream",
     "text": [
      "true label: -1\n"
     ]
    },
    {
     "data": {
      "image/png": "[encoded data removed]",
      "text/plain": [
       "<matplotlib.figure.Figure at 0x114192518>"
      ]
     },
     "metadata": {},
     "output_type": "display_data"
    }
   ],
   "source": [
    "hard_3_index = plot_req(data, np.random.choice(incorrect_3_indices))"
   ]
  },
  {
   "cell_type": "code",
   "execution_count": 20,
   "metadata": {
    "ExecuteTime": {
     "end_time": "2018-04-14T20:28:00.666621Z",
     "start_time": "2018-04-14T20:28:00.515602Z"
    }
   },
   "outputs": [
    {
     "name": "stdout",
     "output_type": "stream",
     "text": [
      "true label: 1\n"
     ]
    },
    {
     "data": {
      "image/png": "[encoded data removed]",
      "text/plain": [
       "<matplotlib.figure.Figure at 0x114192f28>"
      ]
     },
     "metadata": {},
     "output_type": "display_data"
    }
   ],
   "source": [
    "easy_8_index = plot_req(data, np.random.choice(correct_8_indices))"
   ]
  },
  {
   "cell_type": "code",
   "execution_count": 21,
   "metadata": {
    "ExecuteTime": {
     "end_time": "2018-04-14T20:28:09.989926Z",
     "start_time": "2018-04-14T20:28:09.844340Z"
    }
   },
   "outputs": [
    {
     "name": "stdout",
     "output_type": "stream",
     "text": [
      "true label: 1\n"
     ]
    },
    {
     "data": {
      "image/png": "[encoded data removed]",
      "text/plain": [
       "<matplotlib.figure.Figure at 0x10bc866d8>"
      ]
     },
     "metadata": {},
     "output_type": "display_data"
    }
   ],
   "source": [
    "hard_8_index = plot_req(data, np.random.choice(incorrect_8_indices))"
   ]
  },
  {
   "cell_type": "markdown",
   "metadata": {},
   "source": [
    "**Part D**: Using an AdaBoost classifier with at least $K=200$ depth-1 decision trees as the weak learners, plot the staged margin for each of the four examples that you found in **Part C** on the same set of axes. (Be sure to include a legend so we can tell which staged margin corresponds to which example).  Explain your results in terms of the margin of the classifier on each training examples.  More broadly, how the margin-maximizing property might allow AdaBoost to continue improving generalization even after the error on the training set reaches zero.  \n"
   ]
  },
  {
   "cell_type": "code",
   "execution_count": 26,
   "metadata": {
    "ExecuteTime": {
     "end_time": "2018-04-14T20:29:23.962607Z",
     "start_time": "2018-04-14T20:29:19.740367Z"
    }
   },
   "outputs": [],
   "source": [
    "n_learners = 200\n",
    "adaboost_classifer = AdaBoost(n_learners = n_learners, base=DecisionTreeClassifier(max_depth=1))\n",
    "adaboost_classifer.fit(data.X_train, data.y_train)"
   ]
  },
  {
   "cell_type": "code",
   "execution_count": 27,
   "metadata": {
    "ExecuteTime": {
     "end_time": "2018-04-14T20:29:24.021892Z",
     "start_time": "2018-04-14T20:29:23.964547Z"
    }
   },
   "outputs": [],
   "source": [
    "staged_margin_hard_8 = adaboost_classifer.staged_margin(data.X_train[hard_8_index, :], data.y_train[hard_8_index])\n",
    "staged_margin_easy_8 = adaboost_classifer.staged_margin(data.X_train[easy_8_index, :], data.y_train[easy_8_index])\n",
    "staged_margin_hard_3 = adaboost_classifer.staged_margin(data.X_train[hard_3_index, :], data.y_train[hard_3_index])\n",
    "staged_margin_easy_3 = adaboost_classifer.staged_margin(data.X_train[easy_3_index, :], data.y_train[easy_3_index])"
   ]
  },
  {
   "cell_type": "code",
   "execution_count": 28,
   "metadata": {
    "ExecuteTime": {
     "end_time": "2018-04-14T20:29:31.452946Z",
     "start_time": "2018-04-14T20:29:31.187203Z"
    }
   },
   "outputs": [
    {
     "data": {
      "text/plain": [
       "Text(0.5,1,'Margin vs Boosting Iterations')"
      ]
     },
     "execution_count": 28,
     "metadata": {},
     "output_type": "execute_result"
    },
    {
     "data": {
      "image/png": "[encoded data removed]",
      "text/plain": [
       "<matplotlib.figure.Figure at 0x111a44278>"
      ]
     },
     "metadata": {},
     "output_type": "display_data"
    }
   ],
   "source": [
    "fig, ax = plt.subplots(nrows = 1, ncols = 1)\n",
    "\n",
    "ax.plot(staged_margin_easy_3, label = \"Easy 3\", alpha = 0.5)\n",
    "ax.plot(staged_margin_easy_8, label = \"Easy 8\", alpha = 0.5)\n",
    "ax.plot(staged_margin_hard_3, label = \"Hard 3\", alpha = 0.5)\n",
    "ax.plot(staged_margin_hard_8, label = \"Hard 8\", alpha = 0.5)\n",
    "ax.axhline(0.0, ls = '--')\n",
    "ax.grid(alpha = 0.25)\n",
    "ax.legend(loc = \"lower right\")\n",
    "ax.set_xlabel(\"Boosting Iteration\")\n",
    "ax.set_ylabel(\"Margin\")\n",
    "ax.set_title('Margin vs Boosting Iterations')"
   ]
  },
  {
   "cell_type": "markdown",
   "metadata": {
    "ExecuteTime": {
     "end_time": "2018-04-14T20:29:39.611776Z",
     "start_time": "2018-04-14T20:29:39.603307Z"
    }
   },
   "source": [
    "- The margins increase for all kinds of examples! This means that regardless of the fact that the problem is initially easy / difficult to classify, over the number of boosting iterations, they will be correctly classified eventually and with more confidence.\n",
    "\n",
    "- Therefore, even when every training example is classified correctly, the model does not overfit but continues to evolve and gives output with better confidence."
   ]
  },
  {
   "cell_type": "code",
   "execution_count": null,
   "metadata": {},
   "outputs": [],
   "source": []
  }
 ],
 "metadata": {
  "kernelspec": {
   "display_name": "Python 3",
   "language": "python",
   "name": "python3"
  },
  "language_info": {
   "codemirror_mode": {
    "name": "ipython",
    "version": 3
   },
   "file_extension": ".py",
   "mimetype": "text/x-python",
   "name": "python",
   "nbconvert_exporter": "python",
   "pygments_lexer": "ipython3",
   "version": "3.6.4"
  }
 },
 "nbformat": 4,
 "nbformat_minor": 2
}
